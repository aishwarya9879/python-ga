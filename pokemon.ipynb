{
 "cells": [
  {
   "cell_type": "code",
   "execution_count": 2,
   "metadata": {
    "collapsed": false
   },
   "outputs": [],
   "source": [
    "from pprint import pprint\n",
    "#player_id : id code unique to each player (integer)\n",
    "player_id = 1\n",
    "#player_name : entered name of the player (string)\n",
    "player_name = \"Aishwarya\"\n",
    "#time_played : number of time played the game in minutes (float)\n",
    "time_played = 30.0\n",
    "#player_pokemon: the player's captured pokemon (dictionary)\n",
    "player_pokemon = {}\n",
    "#gyms_visited: ids of the gyms that a player has visited (list)\n",
    "gyms_visited = {}\n",
    "\n",
    "#Create a player. The dictionary and list variables should just be defined as empty at this point.\n",
    "player = {\n",
    "            \"player_id\" : 1,\n",
    "            \"player_name\" : \"Ash\",\n",
    "            \"time_played\" : 0.0,\n",
    "            \"player_pokemon\" : {},\n",
    "            \"gyms_visited\" : []\n",
    "        }\n",
    "\n",
    "\n",
    "\n",
    "\n"
   ]
  },
  {
   "cell_type": "code",
   "execution_count": 3,
   "metadata": {
    "collapsed": false
   },
   "outputs": [
    {
     "name": "stdout",
     "output_type": "stream",
     "text": [
      "['amazon.com', 'ebay.com']\n"
     ]
    }
   ],
   "source": [
    "\n",
    "\n",
    "#gym locations\n",
    "gym_locations = ['reddit.com','amazon.com','twitter.com','linkedin.com','ebay.com',\n",
    "                 'netflix.com','udacity.com','stackoverflow.com','github.com','quora.com']\n",
    "\n",
    "#Appendind ['amazon.com', 'ebay.com']  locations to your player's list of visited gyms.\n",
    "player[\"gyms_visited\"].append(\"amazon.com\")\n",
    "player[\"gyms_visited\"].append(\"ebay.com\")\n",
    "\n",
    "print player[\"gyms_visited\"]\n",
    "\n",
    "\n",
    "\n",
    "\n"
   ]
  },
  {
   "cell_type": "code",
   "execution_count": 4,
   "metadata": {
    "collapsed": false
   },
   "outputs": [
    {
     "name": "stdout",
     "output_type": "stream",
     "text": [
      "{'attack': 5, 'defense': 5, 'name': 'charmander', 'special_attack': 5, 'pokemon_id': 1, 'speed': 40, 'hp': 5, 'type': 'fire', 'special_defense': 5}\n",
      "{'attack': 6, 'defense': 6, 'name': 'squirtle', 'special_attack': 6, 'pokemon_id': 2, 'speed': 60, 'hp': 6, 'type': 'water', 'special_defense': 6}\n",
      "{'attack': 7, 'defense': 7, 'name': 'bulbasaur', 'special_attack': 7, 'pokemon_id': 3, 'speed': 70, 'hp': 7, 'type': 'poison', 'special_defense': 7}\n"
     ]
    }
   ],
   "source": [
    "\n",
    "\n",
    "pokemons = {\n",
    "    1 : {\n",
    "        \"pokemon_id\" : 1, #unique identifier for each pokemon (integer)\n",
    "        \"name\" : \"charmander\", # (string)\n",
    "        \"type\" : \"fire\", #the category of pokemon (string)\n",
    "        \"hp\" : 5, #base hitpoints (integer)\n",
    "        \"attack\" : 5, #base attack (integer)\n",
    "        \"defense\" : 5, #base defense (integer)\n",
    "        \"special_attack\" : 5, #base special attack (integer)\n",
    "        \"special_defense\" : 5, #base sepecial defense (integer)\n",
    "        \"speed\" : 40 #base speed (integer)\n",
    "    },\n",
    "    2 : {\n",
    "        \"pokemon_id\" : 2, #unique identifier for each pokemon (integer)\n",
    "        \"name\" : \"squirtle\", # (string)\n",
    "        \"type\" : \"water\", #the category of pokemon (string)\n",
    "        \"hp\" : 6, #base hitpoints (integer)\n",
    "        \"attack\" : 6, #base attack (integer)\n",
    "        \"defense\" : 6, #base defense (integer)\n",
    "        \"special_attack\" : 6, #base special attack (integer)\n",
    "        \"special_defense\" : 6, #base sepecial defense (integer)\n",
    "        \"speed\" : 60 #base speed (integer)\n",
    "    },\n",
    "    3 : {\n",
    "        \"pokemon_id\" : 3, #unique identifier for each pokemon (integer)\n",
    "        \"name\" : \"bulbasaur\", # (string)\n",
    "        \"type\" : \"poison\", #the category of pokemon (string)\n",
    "        \"hp\" : 7, #base hitpoints (integer)\n",
    "        \"attack\" : 7, #base attack (integer)\n",
    "        \"defense\" : 7, #base defense (integer)\n",
    "        \"special_attack\" : 7, #base special attack (integer)\n",
    "        \"special_defense\" : 7, #base sepecial defense (integer)\n",
    "        \"speed\" : 70 #base speed (integer)\n",
    "    }\n",
    "\n",
    "}\n",
    "\n",
    "#Print the pokedex dictionary with the 3 pokemons\n",
    "for pokemon in pokemons:\n",
    "    print pokemons[pokemon]\n",
    "\n"
   ]
  },
  {
   "cell_type": "code",
   "execution_count": 5,
   "metadata": {
    "collapsed": false
   },
   "outputs": [
    {
     "name": "stdout",
     "output_type": "stream",
     "text": [
      "{'player_id': 1, 'time_played': 0.0, 'gyms_visited': ['amazon.com', 'ebay.com'], 'player_name': 'Ash', 'player_pokemon': {}}\n"
     ]
    }
   ],
   "source": [
    "\n",
    "players =   {\n",
    "                1 : player\n",
    "            }\n",
    "print players[1]"
   ]
  },
  {
   "cell_type": "code",
   "execution_count": 6,
   "metadata": {
    "collapsed": false
   },
   "outputs": [
    {
     "name": "stdout",
     "output_type": "stream",
     "text": [
      "{1: {'player_id': 1, 'time_played': 0.0, 'gyms_visited': ['amazon.com', 'ebay.com'], 'player_name': 'Ash', 'player_pokemon': {}}, 2: {'player_id': 2, 'time_played': 10, 'gyms_visited': ['stackoverflow.com', 'github.com'], 'player_name': 'Brock', 'player_pokemon': {}}}\n"
     ]
    }
   ],
   "source": [
    "\n",
    "\n",
    "players[2] = {\n",
    "                \"player_id\" : 2,\n",
    "                \"player_name\" : \"Brock\",\n",
    "                \"time_played\" : 10,\n",
    "                \"player_pokemon\" : {},\n",
    "                \"gyms_visited\" : []\n",
    "             }\n",
    "\n",
    "players[2][\"gyms_visited\"].append(\"stackoverflow.com\")\n",
    "players[2][\"gyms_visited\"].append(\"github.com\")\n",
    "#Print the players dictionary with the new player inserted\n",
    "print players\n",
    "\n"
   ]
  },
  {
   "cell_type": "code",
   "execution_count": 7,
   "metadata": {
    "collapsed": false
   },
   "outputs": [
    {
     "name": "stdout",
     "output_type": "stream",
     "text": [
      "{'player_id': 1, 'time_played': 0.0, 'gyms_visited': ['amazon.com', 'ebay.com'], 'player_name': 'Ash', 'player_pokemon': {}}\n",
      "{1: {'player_id': 1, 'time_played': 0.0, 'gyms_visited': ['amazon.com', 'ebay.com'], 'player_name': 'Ash', 'player_pokemon': {'attack': 6, 'defense': 6, 'name': 'squirtle', 'special_attack': 6, 'pokemon_id': 2, 'speed': 60, 'hp': 6, 'type': 'water', 'special_defense': 6}}, 2: {'player_id': 2, 'time_played': 10, 'gyms_visited': ['stackoverflow.com', 'github.com'], 'player_name': 'Brock', 'player_pokemon': {'attack': 7, 'defense': 7, 'name': 'bulbasaur', 'special_attack': 7, 'pokemon_id': 3, 'speed': 70, 'hp': 7, 'type': 'poison', 'special_defense': 7}}}\n"
     ]
    }
   ],
   "source": [
    "\n",
    "def getPokemonByName(name):\n",
    "    for pokemon in pokemons:\n",
    "        if pokemons[pokemon][\"name\"] == name:\n",
    "            return pokemons[pokemon]\n",
    "\n",
    "#Give player 1 a squirtle. Give player 2 charmander and a bulbasaur.\n",
    "pokemon1 = getPokemonByName(\"squirtle\")\n",
    "print players[1]\n",
    "players[1][\"player_pokemon\"]= pokemon1\n",
    "\n",
    "pokemon2 = getPokemonByName(\"charmander\")\n",
    "pokemon3 = getPokemonByName(\"bulbasaur\")\n",
    "players[2][\"player_pokemon\"] = pokemon2\n",
    "players[2][\"player_pokemon\"] = pokemon3\n",
    "\n",
    "#Print the players dictionary after adding the pokemon for each player.\n",
    "print players\n"
   ]
  },
  {
   "cell_type": "code",
   "execution_count": 8,
   "metadata": {
    "collapsed": false
   },
   "outputs": [
    {
     "name": "stdout",
     "output_type": "stream",
     "text": [
      "amazon.com\n",
      "ebay.com\n",
      "stackoverflow.com\n",
      "github.com\n"
     ]
    }
   ],
   "source": [
    "\n",
    "\n",
    "#What gyms have players visited?\n",
    "for player in players:\n",
    "    if players[player][\"gyms_visited\"] != None:\n",
    "        for gym in players[player][\"gyms_visited\"]:\n",
    "            print gym"
   ]
  },
  {
   "cell_type": "code",
   "execution_count": 9,
   "metadata": {
    "collapsed": false
   },
   "outputs": [
    {
     "name": "stdout",
     "output_type": "stream",
     "text": [
      "Ash  has visited  amazon.com\n",
      "Ash  has visited  ebay.com\n",
      "Brock  has visited  stackoverflow.com\n",
      "Brock  has visited  github.com\n"
     ]
    }
   ],
   "source": [
    "\n",
    "#For each gym, iterate through each player in the players dictionary with a second, internal for-loop.\n",
    "for gym in gym_locations:\n",
    "    for player in players:\n",
    "        for player_gym in players[player][\"gyms_visited\"]:\n",
    "            if player_gym == gym:\n",
    "                print  players[player][\"player_name\"], \" has visited \", gym\n"
   ]
  },
  {
   "cell_type": "code",
   "execution_count": 10,
   "metadata": {
    "collapsed": false
   },
   "outputs": [
    {
     "name": "stdout",
     "output_type": "stream",
     "text": [
      "{'attack': 6, 'defense': 6, 'name': 'squirtle', 'special_attack': 6, 'pokemon_id': 2, 'speed': 60, 'hp': 6, 'type': 'water', 'special_defense': 6}\n",
      "aggregate_attack :  6\n",
      "aggregate_defence :  6\n",
      "{'attack': 7, 'defense': 7, 'name': 'bulbasaur', 'special_attack': 7, 'pokemon_id': 3, 'speed': 70, 'hp': 7, 'type': 'poison', 'special_defense': 7}\n",
      "aggregate_attack :  7\n",
      "aggregate_defence :  7\n"
     ]
    },
    {
     "data": {
      "text/plain": [
       "21"
      ]
     },
     "execution_count": 10,
     "metadata": {},
     "output_type": "execute_result"
    }
   ],
   "source": [
    "\n",
    "def getPlayersById(id):\n",
    "    for player in players:\n",
    "        if player == id:\n",
    "            return players[player]\n",
    "\n",
    "def calculate_power(players, pokemons, player_id):\n",
    "    aggregate_attack = 0\n",
    "    aggregate_defence =  0\n",
    "    aggregate_special_attack = 0\n",
    "    for player in players:\n",
    "        if(player == player_id):\n",
    "            player_pokemon_dict = getPokemonByName( players[player][\"player_pokemon\"][\"name\"] )\n",
    "            print player_pokemon_dict\n",
    "            aggregate_attack = aggregate_attack + player_pokemon_dict[\"attack\"]\n",
    "            aggregate_defence = aggregate_defence + player_pokemon_dict[\"defense\"]\n",
    "            aggregate_special_attack = aggregate_special_attack + player_pokemon_dict[\"special_attack\"]\n",
    "\n",
    "    print \"aggregate_attack : \", aggregate_attack\n",
    "    print \"aggregate_defence : \", aggregate_defence\n",
    "\n",
    "    return aggregate_attack+aggregate_defence +aggregate_special_attack\n",
    "\n",
    "#Find and aggregate the attack and defense values for each of the player's pokemon from the pokedex dictionary.\n",
    "calculate_power(players,pokemons,1)\n",
    "calculate_power(players,pokemons,2)\n"
   ]
  },
  {
   "cell_type": "code",
   "execution_count": 11,
   "metadata": {
    "collapsed": false
   },
   "outputs": [
    {
     "name": "stdout",
     "output_type": "stream",
     "text": [
      "{'attack': 6, 'defense': 6, 'name': 'squirtle', 'special_attack': 6, 'pokemon_id': 2, 'speed': 60, 'hp': 6, 'type': 'water', 'special_defense': 6}\n",
      "aggregate_attack :  6\n",
      "aggregate_defence :  6\n",
      "{'player_id': 1, 'time_played': 0.0, 'gyms_visited': ['amazon.com', 'ebay.com'], 'player_name': 'Ash', 'player_pokemon': {'attack': 6, 'defense': 6, 'name': 'squirtle', 'special_attack': 6, 'pokemon_id': 2, 'speed': 60, 'hp': 6, 'type': 'water', 'special_defense': 6}} 's power is  18\n",
      "{'attack': 7, 'defense': 7, 'name': 'bulbasaur', 'special_attack': 7, 'pokemon_id': 3, 'speed': 70, 'hp': 7, 'type': 'poison', 'special_defense': 7}\n",
      "aggregate_attack :  7\n",
      "aggregate_defence :  7\n",
      "Brock 's power is  21\n"
     ]
    }
   ],
   "source": [
    "\n",
    "#Print \"[player name]'s power is [player power].\", where the player power is the sum of the base statistics for all of their pokemon.\n",
    "\n",
    "player_power1 = calculate_power(players,pokemons,1)\n",
    "player = getPlayersById(1)\n",
    "print players[1], \"'s power is \", player_power1\n",
    "\n",
    "player_power2 = calculate_power(players,pokemons,2)\n",
    "player = getPlayersById(2)\n",
    "print player[\"player_name\"], \"'s power is \", player_power2"
   ]
  },
  {
   "cell_type": "code",
   "execution_count": null,
   "metadata": {
    "collapsed": true
   },
   "outputs": [],
   "source": []
  }
 ],
 "metadata": {
  "anaconda-cloud": {},
  "kernelspec": {
   "display_name": "Python [dsi]",
   "language": "python",
   "name": "Python [dsi]"
  },
  "language_info": {
   "codemirror_mode": {
    "name": "ipython",
    "version": 2
   },
   "file_extension": ".py",
   "mimetype": "text/x-python",
   "name": "python",
   "nbconvert_exporter": "python",
   "pygments_lexer": "ipython2",
   "version": "2.7.12"
  }
 },
 "nbformat": 4,
 "nbformat_minor": 0
}
